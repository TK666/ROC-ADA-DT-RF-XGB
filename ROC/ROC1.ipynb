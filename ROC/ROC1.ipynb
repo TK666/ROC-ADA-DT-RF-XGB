{
 "cells": [
  {
   "cell_type": "code",
   "execution_count": 14,
   "metadata": {},
   "outputs": [
    {
     "name": "stderr",
     "output_type": "stream",
     "text": [
      "C:\\ProgramData\\Anaconda3\\lib\\site-packages\\sklearn\\linear_model\\logistic.py:432: FutureWarning: Default solver will be changed to 'lbfgs' in 0.22. Specify a solver to silence this warning.\n",
      "  FutureWarning)\n"
     ]
    }
   ],
   "source": [
    "from sklearn.datasets import load_breast_cancer\n",
    "from sklearn.linear_model import *\n",
    "from sklearn.model_selection import train_test_split\n",
    "import numpy as np\n",
    "# Load datasetd\n",
    "dataset = load_breast_cancer()\n",
    "# Split data into train-test pools \n",
    "train, test, train_labels, test_labels = train_test_split(dataset['data'],\n",
    "                                                          dataset['target'],\n",
    "                                                          test_size=0.33)\n",
    "# Train model \n",
    "logregr = LogisticRegression().fit(train, train_labels)"
   ]
  },
  {
   "cell_type": "code",
   "execution_count": 15,
   "metadata": {},
   "outputs": [],
   "source": [
    "#Rename, listify \n",
    "actuals = list(test_labels)\n",
    "# Predict probablities of test data [0,1]\n",
    "scores = list(logregr.predict_proba(test)[:,1])\n",
    "# Equivalently\n",
    "import math\n",
    "def sigmoid(x): \n",
    "    return 1 / (1 + math.exp(-x))\n",
    "scores = [sigmoid(logregr.coef_@test_i + logregr.intercept_) for test_i in test]"
   ]
  },
  {
   "cell_type": "code",
   "execution_count": 16,
   "metadata": {},
   "outputs": [],
   "source": [
    "# Predict binary outcomes (0,1)\n",
    "predictions = list(logregr.predict(test))\n",
    "# Equivalently \n",
    "predictions = [1 if s>0.5 else 0 for s in scores]"
   ]
  },
  {
   "cell_type": "code",
   "execution_count": 17,
   "metadata": {},
   "outputs": [
    {
     "name": "stdout",
     "output_type": "stream",
     "text": [
      "Accuracy = 0.941\n"
     ]
    }
   ],
   "source": [
    "print(\"Accuracy = %.3f\" % (sum([p==a for p, a in zip(predictions, actuals)])/len(predictions)))\n"
   ]
  },
  {
   "cell_type": "code",
   "execution_count": 18,
   "metadata": {},
   "outputs": [],
   "source": [
    "import collections\n",
    "ConfusionMatrix = collections.namedtuple('conf', ['tp','fp','tn','fn']) "
   ]
  },
  {
   "cell_type": "code",
   "execution_count": 19,
   "metadata": {},
   "outputs": [],
   "source": [
    " def calc_ConfusionMatrix(actuals, scores, threshold=0.5, positive_label=1):\n",
    "    tp=fp=tn=fn=0\n",
    "    bool_actuals = [act==positive_label for act in actuals]\n",
    "    for truth, score in zip(bool_actuals, scores):\n",
    "        if score > threshold:                      # predicted positive \n",
    "            if truth:                              # actually positive \n",
    "                tp += 1\n",
    "            else:                                  # actually negative              \n",
    "                fp += 1          \n",
    "        else:                                      # predicted negative \n",
    "            if not truth:                          # actually negative \n",
    "                tn += 1                          \n",
    "            else:                                  # actually positive \n",
    "                fn += 1\n",
    "    return ConfusionMatrix(tp, fp, tn, fn)"
   ]
  },
  {
   "cell_type": "code",
   "execution_count": 20,
   "metadata": {},
   "outputs": [],
   "source": [
    "def ACC(conf_mtrx):\n",
    "    return (conf_mtrx.tp + conf_mtrx.tn) / (conf_mtrx.fp + conf_mtrx.tn + conf_mtrx.tp + conf_mtrx.fn)"
   ]
  },
  {
   "cell_type": "code",
   "execution_count": 21,
   "metadata": {},
   "outputs": [],
   "source": [
    "def FPR(conf_mtrx):\n",
    "    return conf_mtrx.fp / (conf_mtrx.fp + conf_mtrx.tn) if (conf_mtrx.fp + conf_mtrx.tn)!=0 else 0\n",
    "def TPR(conf_mtrx):\n",
    "    return conf_mtrx.tp / (conf_mtrx.tp + conf_mtrx.fn) if (conf_mtrx.tp + conf_mtrx.fn)!=0 else 0"
   ]
  },
  {
   "cell_type": "code",
   "execution_count": 61,
   "metadata": {},
   "outputs": [],
   "source": [
    "def apply(actuals, scores, **fxns):\n",
    "    # generate thresholds over score domain \n",
    "    low = min(scores)\n",
    "    high = max(scores)\n",
    "    step = (abs(low) + abs(high)) / 1000\n",
    "    thresholds = np.arange(low-step, high+step, step)\n",
    "    # calculate confusion matrices for all thresholds\n",
    "    confusionMatrices = []\n",
    "    for threshold in thresholds:\n",
    "        confusionMatrices.append(calc_ConfusionMatrix(actuals, scores, threshold))\n",
    "    # apply functions to confusion matrices \n",
    "    results = {fname:list(map(fxn, confusionMatrices)) for fname, fxn in fxns.items()}\n",
    "    results[\"THR\"] = thresholds\n",
    "    return results"
   ]
  },
  {
   "cell_type": "code",
   "execution_count": 53,
   "metadata": {},
   "outputs": [],
   "source": [
    "acc = apply(actuals,  scores, ACC=ACC)\n"
   ]
  },
  {
   "cell_type": "code",
   "execution_count": 77,
   "metadata": {},
   "outputs": [],
   "source": [
    "def ROC(actuals, scores):\n",
    "    return apply(actuals, scores, FPR=FPR, TPR=TPR)\n",
    "\n",
    "cor = ROC(actuals, scores)\n",
    "cor = list(cor.values())\n",
    "cor1 = cor[0]\n",
    "cor2 = cor[1]"
   ]
  },
  {
   "cell_type": "code",
   "execution_count": 78,
   "metadata": {},
   "outputs": [
    {
     "data": {
      "text/plain": [
       "[<matplotlib.lines.Line2D at 0x16fdef0>]"
      ]
     },
     "execution_count": 78,
     "metadata": {},
     "output_type": "execute_result"
    },
    {
     "data": {
      "image/png": "[encoded data removed]",
      "text/plain": [
       "<Figure size 432x288 with 1 Axes>"
      ]
     },
     "metadata": {
      "needs_background": "light"
     },
     "output_type": "display_data"
    }
   ],
   "source": [
    "import matplotlib\n",
    "from matplotlib import pyplot\n",
    "matplotlib.pyplot.plot(cor1, cor2)"
   ]
  },
  {
   "cell_type": "code",
   "execution_count": null,
   "metadata": {},
   "outputs": [],
   "source": []
  }
 ],
 "metadata": {
  "kernelspec": {
   "display_name": "Python 3",
   "language": "python",
   "name": "python3"
  },
  "language_info": {
   "codemirror_mode": {
    "name": "ipython",
    "version": 3
   },
   "file_extension": ".py",
   "mimetype": "text/x-python",
   "name": "python",
   "nbconvert_exporter": "python",
   "pygments_lexer": "ipython3",
   "version": "3.7.3"
  }
 },
 "nbformat": 4,
 "nbformat_minor": 2
}
