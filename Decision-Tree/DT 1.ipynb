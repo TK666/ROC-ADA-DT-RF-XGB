{
 "cells": [
  {
   "cell_type": "markdown",
   "metadata": {},
   "source": [
    "### Importing needed packages"
   ]
  },
  {
   "cell_type": "code",
   "execution_count": 4,
   "metadata": {},
   "outputs": [],
   "source": [
    "import numpy as np\n",
    "import matplotlib.pyplot as plt\n",
    "import pandas as pd\n",
    "import math\n",
    "import copy"
   ]
  },
  {
   "cell_type": "markdown",
   "metadata": {},
   "source": [
    "### Importing Dataset\n",
    "Data consists of 15 Observations and is about whether a tennis match can be taken place regarding to weather conditions. "
   ]
  },
  {
   "cell_type": "code",
   "execution_count": 5,
   "metadata": {},
   "outputs": [
    {
     "name": "stdout",
     "output_type": "stream",
     "text": [
      "    day   outlook  temp humidity    wind play\n",
      "0    D1     Sunny   Hot     High    Weak   No\n",
      "1    D2     Sunny   Hot     High  Strong   No\n",
      "2    D3  Overcast   Hot     High    Weak  Yes\n",
      "3    D4      Rain  Mild     High    Weak  Yes\n",
      "4    D5      Rain  Cool   Normal    Weak  Yes\n",
      "5    D6      Rain  Cool   Normal  Strong   No\n",
      "6    D7  Overcast  Cool   Normal  Strong  Yes\n",
      "7    D8     Sunny  Mild     High    Weak   No\n",
      "8    D9     Sunny  Cool   Normal    Weak  Yes\n",
      "9   D10      Rain  Mild   Normal    Weak  Yes\n",
      "10  D11     Sunny  Mild   Normal  Strong  Yes\n",
      "11  D12  Overcast  Mild     High  Strong  Yes\n",
      "12  D13  Overcast   Hot   Normal    Weak  Yes\n",
      "13  D14      Rain  Mild     High  Strong   No\n"
     ]
    }
   ],
   "source": [
    "dataset = pd.read_csv('tennis.csv')\n",
    "print(dataset)"
   ]
  },
  {
   "cell_type": "code",
   "execution_count": 6,
   "metadata": {},
   "outputs": [],
   "source": [
    "X = dataset.iloc[:, 1:].values\n",
    "attribute = ['outlook', 'temp', 'humidity', 'wind']"
   ]
  },
  {
   "cell_type": "markdown",
   "metadata": {},
   "source": [
    "## Initializing a Class \n",
    "* Note that here I used not so complex tree as it is time consuming and there are parts in coding that I do not clearly understand.\n",
    "* Our function has 3 attributes. Values, Decisions and Childs.\n"
   ]
  },
  {
   "cell_type": "code",
   "execution_count": 7,
   "metadata": {},
   "outputs": [],
   "source": [
    "class Node(object):\n",
    "    def __init__(self):\n",
    "        self.value = None\n",
    "        self.decision = None\n",
    "        self.childs = None\n"
   ]
  },
  {
   "cell_type": "markdown",
   "metadata": {},
   "source": [
    "## Entropy & Information Gain\n",
    "\n",
    "* Favors splits with small counts but many unique values.\n",
    "* Weights probability of class by log(base=2) of the class probability\n",
    "* A smaller value of Entropy is better.  That makes the difference between the parent node’s entropy larger.\n",
    "* Information Gain is the Entropy of the parent node minus the entropy of the child nodes.\n",
    "* Entropy is calculated [ P(class1)*log(P(class1),2) + P(class2)*log(P(class2),2) + … + P(classN)*log(P(classN),2)]\n",
    "\n",
    "When you use Information Gain, which uses Entropy as the base calculation, you have a wider range of results.  The Gini Index caps at one.  The maximum value for Entropy depends on the number of classes.  It’s based on base-2, so if you have…\n",
    "Two classes: Max entropy is 1.\n",
    "Four Classes: Max entropy is 2.\n",
    "Eight Classes: Max entropy is 3.\n",
    "16 classes: Max entropy is 4.\n"
   ]
  },
  {
   "cell_type": "code",
   "execution_count": 8,
   "metadata": {},
   "outputs": [],
   "source": [
    "def infGain(data, rows):\n",
    "    yes = 0\n",
    "    no = 0\n",
    "    ans = -1\n",
    "    idx = len(data[0]) - 1\n",
    "    infgain = 0\n",
    "    for i in rows:\n",
    "        if data[i][idx] == 'Yes':\n",
    "            yes = yes + 1\n",
    "        else:\n",
    "            no = no + 1\n",
    "\n",
    "    x = yes/(yes+no)\n",
    "    y = no/(yes+no)\n",
    "    if x != 0 and y != 0:\n",
    "        infgain = -1 * (x*math.log2(x) + y*math.log2(y))\n",
    "    if x == 1:\n",
    "        ans = 1\n",
    "    if y == 1:\n",
    "        ans = 0\n",
    "    return infgain, ans"
   ]
  },
  {
   "cell_type": "markdown",
   "metadata": {},
   "source": [
    "## Maxgain\n",
    "\n",
    "### An attribute with highest Information gain will tested/split first\n"
   ]
  },
  {
   "cell_type": "code",
   "execution_count": 9,
   "metadata": {},
   "outputs": [],
   "source": [
    "def findMaxGain(data, rows, columns):\n",
    "    maxGain = 0\n",
    "    retidx = -1\n",
    "    infgain, ans = infGain(data, rows)\n",
    "    if infgain == 0:\n",
    "        \"\"\"if ans == 1:\n",
    "            print(\"Yes\")\n",
    "        else:\n",
    "            print(\"No\")\"\"\"\n",
    "        return maxGain, retidx, ans\n",
    "\n",
    "    for j in columns:\n",
    "        mydict = {}\n",
    "        idx = j\n",
    "        for i in rows:\n",
    "            key = data[i][idx]\n",
    "            if key not in mydict:\n",
    "                mydict[key] = 1\n",
    "            else:\n",
    "                mydict[key] = mydict[key] + 1\n",
    "        gain = infgain\n",
    "\n",
    "        # print(mydict)\n",
    "        for key in mydict:\n",
    "            yes = 0\n",
    "            no = 0\n",
    "            for k in rows:\n",
    "                if data[k][j] == key:\n",
    "                    if data[k][-1] == 'Yes':\n",
    "                        yes = yes + 1\n",
    "                    else:\n",
    "                        no = no + 1\n",
    "            # print(yes, no)\n",
    "            x = yes/(yes+no)\n",
    "            y = no/(yes+no)\n",
    "            # print(x, y)\n",
    "            if x != 0 and y != 0:\n",
    "                gain += (mydict[key] * (x*math.log2(x) + y*math.log2(y)))/14\n",
    "        # print(gain)\n",
    "        if gain > maxGain:\n",
    "            # print(\"hello\")\n",
    "            maxGain = gain\n",
    "            retidx = j\n",
    "\n",
    "    return maxGain, retidx, ans\n"
   ]
  },
  {
   "cell_type": "markdown",
   "metadata": {},
   "source": [
    "## Building a Tree"
   ]
  },
  {
   "cell_type": "code",
   "execution_count": 10,
   "metadata": {},
   "outputs": [],
   "source": [
    "def buildTree(data, rows, columns):\n",
    "\n",
    "    maxGain, idx, ans = findMaxGain(X, rows, columns)\n",
    "    root = Node()\n",
    "    root.childs = []\n",
    "    #print(maxGain)\n",
    "    if maxGain == 0:\n",
    "        if ans == 1:\n",
    "            root.value = 'Yes'\n",
    "        else:\n",
    "            root.value = 'No'\n",
    "        return root\n",
    "\n",
    "    root.value = attribute[idx]\n",
    "    mydict = {}\n",
    "    for i in rows:\n",
    "        key = data[i][idx]\n",
    "        if key not in mydict:\n",
    "            mydict[key] = 1\n",
    "        else:\n",
    "            mydict[key] += 1\n",
    "\n",
    "    newcolumns = copy.deepcopy(columns)\n",
    "    newcolumns.remove(idx)\n",
    "    for key in mydict:\n",
    "        newrows = []\n",
    "        for i in rows:\n",
    "            if data[i][idx] == key:\n",
    "                newrows.append(i)\n",
    "        #print(newrows)\n",
    "        temp = buildTree(data, newrows, newcolumns)\n",
    "        temp.decision = key\n",
    "        root.childs.append(temp)\n",
    "    return root\n",
    "\n",
    "def traverse(root):\n",
    "    print(root.decision)\n",
    "    print(root.value)\n",
    "\n",
    "    n = len(root.childs)\n",
    "    if n > 0:\n",
    "        for i in range(0, n):\n",
    "            traverse(root.childs[i])\n",
    "\n"
   ]
  },
  {
   "cell_type": "markdown",
   "metadata": {},
   "source": [
    "## Final Output"
   ]
  },
  {
   "cell_type": "code",
   "execution_count": 11,
   "metadata": {},
   "outputs": [
    {
     "name": "stdout",
     "output_type": "stream",
     "text": [
      "Ստորև ներկայացված է Ծառը\n",
      "\n",
      "outlook\n",
      "Sunny\n",
      "humidity\n",
      "High\n",
      "No\n",
      "Normal\n",
      "Yes\n",
      "Overcast\n",
      "Yes\n",
      "Rain\n",
      "wind\n",
      "Weak\n",
      "Yes\n",
      "Strong\n",
      "No\n"
     ]
    }
   ],
   "source": [
    "def calculate():\n",
    "    rows = [i for i in range(0, 14)]\n",
    "    columns = [i for i in range(0, 4)]\n",
    "    root = buildTree(X, rows, columns)\n",
    "    root.decision = 'Ստորև ներկայացված է Ծառը\\n'\n",
    "    traverse(root)\n",
    "\n",
    "calculate()"
   ]
  },
  {
   "attachments": {
    "DT1.png": {
     "image/png": "[encoded data removed]"
    }
   },
   "cell_type": "markdown",
   "metadata": {},
   "source": [
    "![DT1.png](attachment:DT1.png)"
   ]
  },
  {
   "cell_type": "code",
   "execution_count": null,
   "metadata": {},
   "outputs": [],
   "source": []
  }
 ],
 "metadata": {
  "kernelspec": {
   "display_name": "Python 3",
   "language": "python",
   "name": "python3"
  },
  "language_info": {
   "codemirror_mode": {
    "name": "ipython",
    "version": 3
   },
   "file_extension": ".py",
   "mimetype": "text/x-python",
   "name": "python",
   "nbconvert_exporter": "python",
   "pygments_lexer": "ipython3",
   "version": "3.7.0"
  }
 },
 "nbformat": 4,
 "nbformat_minor": 2
}
